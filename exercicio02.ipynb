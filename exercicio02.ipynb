{
 "cells": [
  {
   "cell_type": "code",
   "execution_count": 1,
   "source": [
    "\r\n",
    "from time import sleep # pacote para adormecer o progama\r\n",
    "from getpass import getpass # pacote para esconder a senha"
   ],
   "outputs": [],
   "metadata": {}
  },
  {
   "cell_type": "code",
   "execution_count": 2,
   "source": [
    "# Essa funcao ira validar se ha existencia de pelo menos uma letra maiuscula:\r\n",
    "def validar_letra_maiuscula(senha):\r\n",
    "    contar_letra_maiuscula = 0\r\n",
    "    \r\n",
    "    # iterando sobre a senha:\r\n",
    "    for indice, letra in enumerate(senha):\r\n",
    "        \r\n",
    "        # valida a existenca, caso ela exista adiconara 1 ao contador: \r\n",
    "        if letra.upper() == senha[indice] and senha[indice] not in ('!@#$%^&()-+/123456789'):\r\n",
    "            contar_letra_maiuscula += 1\r\n",
    "    else:\r\n",
    "        # após termino ele entra para o else\r\n",
    "        # se o contar letra for maior ou que 1 implicara a existencia de letra maiuscula.\r\n",
    "        if contar_letra_maiuscula <= 0:\r\n",
    "            print('Senha não contem letra maíuscula!')\r\n",
    "        else:\r\n",
    "            # caso verdadeiro chamara a função validar_letra_minuscula\r\n",
    "            return validar_letra_minuscula(senha)    "
   ],
   "outputs": [],
   "metadata": {}
  },
  {
   "cell_type": "code",
   "execution_count": 3,
   "source": [
    "# Essa funcao ira validar se ha existencia de pelo menos uma letra minuscula:\n",
    "def validar_letra_minuscula(senha):\n",
    "    conta_letra_minuscula = 0\n",
    "    \n",
    "    # iterando sobre a senha:\n",
    "    for k in list(senha):\n",
    "        # valida a existenca, caso ela exista adiconara 1 ao contador: \n",
    "        if k in ('qwertyuiopasdfghjklzxcvbnm'):\n",
    "            conta_letra_minuscula += 1\n",
    "    \n",
    "    # se o contar letra for maior ou que 1 implicara a existencia de letra minuscula.\n",
    "    if conta_letra_minuscula <= 0:\n",
    "        print('Senha não contem letra minuscula!')\n",
    "    else:\n",
    "        # caso verdadeiro chamara a função validar_tamanho_senha\n",
    "        return validar_tamanho_senha(senha)"
   ],
   "outputs": [],
   "metadata": {}
  },
  {
   "cell_type": "code",
   "execution_count": 4,
   "source": [
    "# Essa funcao ira validar o tamanho da senha:\n",
    "def validar_tamanho_senha(senha):\n",
    "    if len(senha) < 6:\n",
    "        print('Sua senha é inferior a seis caracteres!')\n",
    "    else:\n",
    "        # caso verdadeiro chamara a função validar_existencia_numero\n",
    "        return validar_existencia_numero(senha)"
   ],
   "outputs": [],
   "metadata": {}
  },
  {
   "cell_type": "code",
   "execution_count": 5,
   "source": [
    "# Essa funcao ira validar se ha existencia de pelo menos um numero:\n",
    "def validar_existencia_numero(senha):\n",
    "    contar_numero = 0\n",
    "    \n",
    "    # iterando sobre a senha: \n",
    "    for k in list(senha):\n",
    "        \n",
    "        # valida se ha existencia do numero:\n",
    "        if k in set('0123456789'):\n",
    "            \n",
    "            # adiciona caso exista\n",
    "            contar_numero += 1\n",
    "\n",
    "    # se o contar numero for maior ou que 1 implicara a existencia de numero.\n",
    "    if contar_numero <= 0:\n",
    "        print('Senha não contem pelo menos um número!')\n",
    "    else:\n",
    "        # caso verdadeiro chamara a função validar_caracter_especial\n",
    "        return validar_caracter_especial(senha)"
   ],
   "outputs": [],
   "metadata": {}
  },
  {
   "cell_type": "code",
   "execution_count": 6,
   "source": [
    "# Essa funcao ira validar se ha existencia de pelo menos um caracter especial:\n",
    "def validar_caracter_especial(senha):\n",
    "    contar_caracter_especial = 0\n",
    "\n",
    "    # iterando sobre a senha: \n",
    "    for caracter_especial in list(senha):\n",
    "\n",
    "        # valida se ha existencia do caracter:\n",
    "        if caracter_especial in ('!@#$%^&()-+/\\'\\\\\"'):\n",
    "            # adicionara caso a condicao for verdadeira\n",
    "            contar_caracter_especial += 1\n",
    "\n",
    "    # se o contar letra for maior ou que 1 implicara a existencia de caracter especial.\n",
    "    if contar_caracter_especial <= 0:\n",
    "        print('Senha não contem pelo menos um caracter especial!')\n",
    "    else:\n",
    "        sleep(3) # adormecer por 3 segundos\n",
    "        print('Processando ...')\n",
    "    sleep(1.5) # adormecer por 1.5 segundos\n",
    "    print('Obrigado por ter aguardado')\n",
    "    print('Bem Vindo ao Twiter!!!') "
   ],
   "outputs": [],
   "metadata": {}
  },
  {
   "cell_type": "code",
   "execution_count": 7,
   "source": [
    "def login():\n",
    "    print('== Painel de Cadastro a rede social do Twiter ==')\n",
    "    nome_usuario = ''\n",
    "    while len(nome_usuario) <2:\n",
    "            nome_usuario = input('Digite seu nome: ').strip()\n",
    "    senha = getpass('''\n",
    "    Atenção: A senha deve ter no minimo 6 caracter, pelo meno 1 letra maíuscula e minúscula, pelo menos 1 número e um caracter\n",
    "    \n",
    "    Cria a sua senha: ''')\n",
    "    validar_letra_maiuscula(senha)"
   ],
   "outputs": [],
   "metadata": {}
  },
  {
   "cell_type": "markdown",
   "source": [
    "# Validação do Código:"
   ],
   "metadata": {}
  },
  {
   "cell_type": "code",
   "execution_count": 8,
   "source": [
    "# chamando a funcao login()\n",
    "\n",
    "login()"
   ],
   "outputs": [
    {
     "output_type": "stream",
     "name": "stdout",
     "text": [
      "== Painel de Cadastro a rede social do Twiter ==\n",
      "Digite seu nome: Cipriana\n",
      "\n",
      "    Atenção: A senha deve ter no minimo 6 caracter, pelo meno 1 letra maíuscula e minúscula, pelo menos 1 número e um caracter\n",
      "    \n",
      "    Cria a sua senha: ········\n",
      "Processando ...\n",
      "Obrigado por ter aguardado\n",
      "Bem Vindo ao Twiter!!!\n"
     ]
    }
   ],
   "metadata": {}
  }
 ],
 "metadata": {
  "kernelspec": {
   "display_name": "Python 3",
   "language": "python",
   "name": "python3"
  },
  "language_info": {
   "codemirror_mode": {
    "name": "ipython",
    "version": 3
   },
   "file_extension": ".py",
   "mimetype": "text/x-python",
   "name": "python",
   "nbconvert_exporter": "python",
   "pygments_lexer": "ipython3",
   "version": "3.8.5"
  }
 },
 "nbformat": 4,
 "nbformat_minor": 4
}