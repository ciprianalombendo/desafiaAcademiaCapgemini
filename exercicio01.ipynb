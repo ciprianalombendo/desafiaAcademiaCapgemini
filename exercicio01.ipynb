{
 "cells": [
  {
   "cell_type": "code",
   "execution_count": 1,
   "source": [
    "\r\n",
    "def numero_de_degrau(n):\r\n",
    "    \r\n",
    "    print(f'Escada de {n} degrau:')\r\n",
    "    print()\r\n",
    "    for k in range(1, n+1):\r\n",
    "        for i in range(n, k, -1):\r\n",
    "            print(' ', end = '')\r\n",
    "        for j in range(0, k):\r\n",
    "                print('*', end = '')\r\n",
    "        print()\r\n",
    "        \r\n",
    "numero_de_degrau(9)"
   ],
   "outputs": [],
   "metadata": {}
  },
  {
   "cell_type": "markdown",
   "source": [
    "# Validação do Código:"
   ],
   "metadata": {}
  },
  {
   "cell_type": "code",
   "execution_count": 2,
   "source": [
    "# chamando a função numero_de_degrau(valor_inteiro)\n",
    "numero_de_degrau(6)"
   ],
   "outputs": [
    {
     "output_type": "stream",
     "name": "stdout",
     "text": [
      "Escada de 6 degrau:\n",
      "\n",
      "     *\n",
      "    **\n",
      "   ***\n",
      "  ****\n",
      " *****\n",
      "******\n"
     ]
    }
   ],
   "metadata": {}
  }
 ],
 "metadata": {
  "kernelspec": {
   "display_name": "Python 3",
   "language": "python",
   "name": "python3"
  },
  "language_info": {
   "codemirror_mode": {
    "name": "ipython",
    "version": 3
   },
   "file_extension": ".py",
   "mimetype": "text/x-python",
   "name": "python",
   "nbconvert_exporter": "python",
   "pygments_lexer": "ipython3",
   "version": "3.8.5"
  }
 },
 "nbformat": 4,
 "nbformat_minor": 4
}