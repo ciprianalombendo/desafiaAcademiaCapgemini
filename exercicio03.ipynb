{
 "cells": [
  {
   "cell_type": "code",
   "execution_count": 1,
   "source": [
    "\r\n",
    "\r\n",
    "def anagrama(palavra):\r\n",
    "    contar_anagrama = 0\r\n",
    "    \r\n",
    "    print('Pares de posições pares: ')\r\n",
    "    for i in range(0, len(palavra)-1):\r\n",
    "        for k in range (1, len(palavra)-i):\r\n",
    "            slices1 = palavra[i:i+k]\r\n",
    "            for j in range (i+1 , len(palavra)):\r\n",
    "                slices2 = palavra[j:j+k]\r\n",
    "                if sorted(list(slices2)) == sorted(list(slices1)):\r\n",
    "                    contar_anagrama += 1\r\n",
    "                    print(f'({slices1}, {slices2})')\r\n",
    "    \r\n",
    "    print()\r\n",
    "    print('O número de anagrama:', contar_anagrama)"
   ],
   "outputs": [],
   "metadata": {}
  },
  {
   "cell_type": "markdown",
   "source": [
    "# Validação do Código:"
   ],
   "metadata": {}
  },
  {
   "cell_type": "code",
   "execution_count": 2,
   "source": [
    "# chamando a função anagrama(palavra)\n",
    "anagrama('ovo')"
   ],
   "outputs": [
    {
     "output_type": "stream",
     "name": "stdout",
     "text": [
      "Pares de posições pares: \n",
      "(o, o)\n",
      "(ov, vo)\n",
      "\n",
      "O número de anagrama: 2\n"
     ]
    }
   ],
   "metadata": {}
  },
  {
   "cell_type": "code",
   "execution_count": 3,
   "source": [
    "anagrama('ifailuhkqq')"
   ],
   "outputs": [
    {
     "output_type": "stream",
     "name": "stdout",
     "text": [
      "Pares de posições pares: \n",
      "(i, i)\n",
      "(ifa, fai)\n",
      "(q, q)\n",
      "\n",
      "O número de anagrama: 3\n"
     ]
    }
   ],
   "metadata": {}
  }
 ],
 "metadata": {
  "kernelspec": {
   "display_name": "Python 3",
   "language": "python",
   "name": "python3"
  },
  "language_info": {
   "codemirror_mode": {
    "name": "ipython",
    "version": 3
   },
   "file_extension": ".py",
   "mimetype": "text/x-python",
   "name": "python",
   "nbconvert_exporter": "python",
   "pygments_lexer": "ipython3",
   "version": "3.8.5"
  }
 },
 "nbformat": 4,
 "nbformat_minor": 4
}